{
 "cells": [
  {
   "cell_type": "code",
   "execution_count": null,
   "metadata": {},
   "outputs": [
    {
     "name": "stdout",
     "output_type": "stream",
     "text": [
      "+-------------+--------+--------+--------+--------+------+\n",
      "|       symbol|    open|    high|     low|   close|volume|\n",
      "+-------------+--------+--------+--------+--------+------+\n",
      "|CRYPTO:BTCUSD|42284.71|44173.08|42180.69|44165.88|   0.0|\n",
      "|CRYPTO:BTCUSD|44166.14|45894.23|44165.35|44964.68|   0.0|\n",
      "|CRYPTO:BTCUSD|44965.34|45508.68|40879.06|42855.11|   0.0|\n",
      "|CRYPTO:BTCUSD|42855.11|44746.28|42641.18|44171.58|   0.0|\n",
      "|CRYPTO:BTCUSD|44170.47|44346.61|42593.39|44188.64|   0.0|\n",
      "|CRYPTO:BTCUSD|44188.81| 44243.7|43435.76|44008.11|   0.0|\n",
      "|CRYPTO:BTCUSD|44007.88|44502.05|43632.42|43947.06|   0.0|\n",
      "|CRYPTO:BTCUSD|43947.19|47250.58|43220.49|46979.41|   0.0|\n",
      "|CRYPTO:BTCUSD|46979.43|47975.24|45009.96|46147.55|   0.0|\n",
      "|CRYPTO:BTCUSD|46147.27| 47691.5|44350.85|46658.68|   0.0|\n",
      "|CRYPTO:BTCUSD|46659.24|48965.41|45642.42|46354.23|   0.0|\n",
      "|CRYPTO:BTCUSD|46354.35|46511.27|41527.04|42784.68|   0.0|\n",
      "|CRYPTO:BTCUSD|42785.13|43238.36|42429.17|42834.13|   0.0|\n",
      "|CRYPTO:BTCUSD|42834.13|43070.01|41722.11|41732.68|   0.0|\n",
      "|CRYPTO:BTCUSD|41733.73|43328.08|41685.58|42491.28|   0.0|\n",
      "|CRYPTO:BTCUSD|42490.68|43536.86| 42064.7|43110.23|   0.0|\n",
      "|CRYPTO:BTCUSD|43109.97|43181.49|42201.66|42761.67|   0.0|\n",
      "|CRYPTO:BTCUSD|42761.67|42885.52|40648.61|41282.04|   0.0|\n",
      "|CRYPTO:BTCUSD|41282.12|42144.62|40266.02|41619.59|   0.0|\n",
      "|CRYPTO:BTCUSD|41619.59| 41825.3|41426.45|41659.07|   0.0|\n",
      "+-------------+--------+--------+--------+--------+------+\n",
      "only showing top 20 rows\n",
      "\n"
     ]
    }
   ],
   "source": [
    "import pyspark\n",
    "from pyspark.sql import SparkSession\n",
    "from pyspark.sql.types import StructType, StructField, StringType, DoubleType\n",
    "\n",
    "# Crear sesión de Spark\n",
    "spark = SparkSession.builder.appName(\"ReadCSV\").getOrCreate()\n",
    "\n",
    "# Definir el esquema del archivo CSV\n",
    "schema = StructType([\n",
    "    StructField(\"symbol\", StringType(), True),\n",
    "    StructField(\"open\", DoubleType(), True),\n",
    "    StructField(\"high\", DoubleType(), True),\n",
    "    StructField(\"low\", DoubleType(), True),\n",
    "    StructField(\"close\", DoubleType(), True),\n",
    "    StructField(\"volume\", DoubleType(), True)\n",
    "])\n",
    "\n",
    "# Leer el archivo CSV con el esquema especificado y búsqueda recursiva\n",
    "df = spark.read.option(\"header\", \"true\") \\\n",
    "               .option(\"sep\", \";\") \\\n",
    "               .option(\"recursiveFileLookup\", \"true\") \\\n",
    "               .schema(schema) \\\n",
    "               .csv(\"/Users/javierviseras/Documents/3º/BigDataII/Pacoin/clean_data/btc/\")\n"
   ]
  },
  {
   "cell_type": "code",
   "execution_count": null,
   "metadata": {},
   "outputs": [],
   "source": [
    "import pyspark"
   ]
  }
 ],
 "metadata": {
  "kernelspec": {
   "display_name": "BigData",
   "language": "python",
   "name": "python3"
  },
  "language_info": {
   "codemirror_mode": {
    "name": "ipython",
    "version": 3
   },
   "file_extension": ".py",
   "mimetype": "text/x-python",
   "name": "python",
   "nbconvert_exporter": "python",
   "pygments_lexer": "ipython3",
   "version": "3.11.11"
  }
 },
 "nbformat": 4,
 "nbformat_minor": 2
}
